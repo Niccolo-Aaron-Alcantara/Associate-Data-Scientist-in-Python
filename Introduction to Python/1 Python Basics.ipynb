{
 "cells": [
  {
   "cell_type": "markdown",
   "id": "6286aaf0-506b-40c7-a015-37cec6a99e52",
   "metadata": {},
   "source": [
    "# Contents\n",
    "* [Your first Python code](#Your-first-Python-code) \n",
    "* [Any comments?](#Any-comments?)\n",
    "* [Python as a calculator](#Python-as-a-calculator)\n",
    "* [Variable Assignment](#Variable-Assignment)\n",
    "* [Calculations with variables](#Calculations-with-variables)\n",
    "* [Other variable types](#Other-variable-types)\n",
    "* [Operations with other types](#Operations-with-other-types)"
   ]
  },
  {
   "cell_type": "markdown",
   "id": "38312bdb-6360-43dd-a23d-43a37abce210",
   "metadata": {},
   "source": [
    "## Your first Python code\n",
    "It's time to run your first Python code!\n",
    "\n",
    "Head to the code and hit the run code button to see the output.\n",
    "\n",
    "**Instructions** <br>\n",
    "Hit the run code button to see the output of `print(5 / 8)`."
   ]
  },
  {
   "cell_type": "code",
   "execution_count": 1,
   "id": "f7ae4584-8d88-4a74-a77c-f4d303dec2af",
   "metadata": {},
   "outputs": [
    {
     "name": "stdout",
     "output_type": "stream",
     "text": [
      "0.625\n"
     ]
    }
   ],
   "source": [
    "# Hit run code to see the output!\n",
    "print(5 / 8)"
   ]
  },
  {
   "cell_type": "markdown",
   "id": "c083597c-78db-4aa8-b82d-c2fe932e7cf0",
   "metadata": {},
   "source": [
    "## Any comments?\n",
    "You can also add **comments** to your Python scripts. Comments are important to make sure that you and others can understand what your code is about and do not run as Python code.\n",
    "\n",
    "They start with `#` tag. See the comment in the editor, `# Division`; now it's your turn to add a comment!\n",
    "\n",
    "**Instructions** <br>\n",
    "Replace `____` with the comment <br>\n",
    "`# Addition`"
   ]
  },
  {
   "cell_type": "code",
   "execution_count": 2,
   "id": "9dd95c61-9d86-43ae-b557-760e58650dfb",
   "metadata": {},
   "outputs": [
    {
     "name": "stdout",
     "output_type": "stream",
     "text": [
      "0.625\n",
      "17\n"
     ]
    }
   ],
   "source": [
    "# Division\n",
    "print(5 / 8)\n",
    "\n",
    "# Addition\n",
    "print(7 + 10)"
   ]
  },
  {
   "cell_type": "markdown",
   "id": "f986ae81-284e-4cb1-87ed-80172d98086f",
   "metadata": {},
   "source": [
    "## Python as a calculator\n",
    "Python is perfectly suited to do basic calculations. It can do addition, subtraction, multiplication and division.\n",
    "\n",
    "The code in the script gives some examples.\n",
    "\n",
    "Now it's your turn to practice!\n",
    "\n",
    "**Instructions**\n",
    "* Print the sum of `4 + 5`.\n",
    "* Print the result of subtracting `5` from `5`.\n",
    "* Print the result of multiplying `3` by `5`.\n",
    "* Print the result of dividing `10` by `2`."
   ]
  },
  {
   "cell_type": "code",
   "execution_count": 3,
   "id": "bc3768bb-dcd5-46d4-b047-46379ca6ec0a",
   "metadata": {},
   "outputs": [
    {
     "name": "stdout",
     "output_type": "stream",
     "text": [
      "9\n",
      "0\n",
      "15\n",
      "5.0\n"
     ]
    }
   ],
   "source": [
    "# Addition\n",
    "print(4 + 5)\n",
    "\n",
    "# Subtraction\n",
    "print(5 - 5)\n",
    "\n",
    "# Multiplication\n",
    "print(3 * 5)\n",
    "\n",
    "# Division\n",
    "print(10 / 2)"
   ]
  },
  {
   "cell_type": "markdown",
   "id": "fddcc7a1-25e6-458d-a0d1-381654a599fc",
   "metadata": {},
   "source": [
    "## Variable Assignment\n",
    "In Python, a variable allows you to refer to a value with a name. To create a variable `x` with a value of `5`, you use `=`, like this example: <br>\n",
    "`x = 5`\n",
    "\n",
    "You can now use the name of this variable, `x`, instead of the actual value, `5`.\n",
    "\n",
    "Remember, `=` in Python means **assignment**, it doesn't test equality! Try it in the exercise by replacing `____` with your code.\n",
    "\n",
    "**Instructions** <br>\n",
    "* Create a variable `savings` with the value of `100`.\n",
    "* Check out this variable by typing `print(savings)` in the script."
   ]
  },
  {
   "cell_type": "code",
   "execution_count": 4,
   "id": "9a9aae9d-c1ec-4a3d-9676-0f145fe771e5",
   "metadata": {},
   "outputs": [
    {
     "name": "stdout",
     "output_type": "stream",
     "text": [
      "100\n"
     ]
    }
   ],
   "source": [
    "# Create a variable savings\n",
    "savings = 100\n",
    "\n",
    "# Print out savings\n",
    "print(savings)"
   ]
  },
  {
   "cell_type": "markdown",
   "id": "87ea9f0a-870b-4f48-90b0-01860b879c9e",
   "metadata": {},
   "source": [
    "## Calculations with variables\n",
    "You've now created a savings variable, so let's start saving!\n",
    "\n",
    "Instead of calculating with the actual values, you can use variables instead.\n",
    "\n",
    "How much money would you have saved four months from now, if you saved $10 each month?\n",
    "\n",
    "**Instructions**\n",
    "* Create a variable `monthly_savings`, equal to `10` and `num_months`, equal to `4`.\n",
    "* Multiply `monthly_savings` by `num_months` and assign it to `new_savings`.\n",
    "* Print the value of `new_savings`.ew_savings."
   ]
  },
  {
   "cell_type": "code",
   "execution_count": 5,
   "id": "1f9a4cd8-6c04-4865-9ba4-71e07f7b1d54",
   "metadata": {},
   "outputs": [
    {
     "name": "stdout",
     "output_type": "stream",
     "text": [
      "40\n"
     ]
    }
   ],
   "source": [
    "# Create the variables monthly_savings and num_months\n",
    "monthly_savings = 10\n",
    "num_months = 4\n",
    "\n",
    "\n",
    "# Multiply monthly_savings and num_months\n",
    "new_savings = monthly_savings * num_months\n",
    "\n",
    "# Print new_savings\n",
    "print(new_savings)"
   ]
  },
  {
   "cell_type": "markdown",
   "id": "d0ab70f5-679d-48cb-b0f0-d3951b2267c1",
   "metadata": {},
   "source": [
    "## Other variable types\n",
    "In the previous exercise, you worked with the integer Python data type:\n",
    "* `int`, or integer: a number without a fractional part. `savings`, with the value `100`, is an example of an integer.\n",
    "\n",
    "Next to numerical data types, there are three other very common data types:\n",
    "* `float`, or floating point: a number that has both an integer and fractional part, separated by a point. `1.1` is an example of a float.\n",
    "* `str`, or string: a type to represent text. You can use single or double quotes to build a string.\n",
    "* `bool`, or boolean: a type to represent logical values. It can only be `True` or `False` (the capitalization is important!).\n",
    "\n",
    "**Instructions**\n",
    "* Create a new float, `half`, with the value `0.5`.\n",
    "* Create a new string, `intro`, with the value `\"Hello! How are you?\"`.\n",
    "* Create a new boolean, `is_good`, with the value `True`."
   ]
  },
  {
   "cell_type": "code",
   "execution_count": 6,
   "id": "11f5f103-76b0-459f-9f6f-a8682715e92a",
   "metadata": {},
   "outputs": [],
   "source": [
    "# Create a variable half\n",
    "half = 0.5\n",
    "\n",
    "# Create a variable intro\n",
    "intro = 'Hello! How are you?'\n",
    "\n",
    "# Create a variable is_good\n",
    "is_good = True"
   ]
  },
  {
   "cell_type": "markdown",
   "id": "495be30f-b055-4a43-939c-760e47edf323",
   "metadata": {},
   "source": [
    "## Operations with other types\n",
    "Variables come in different types in Python. You can see the type of a variable by using `type()`. For example, to see type of `a`, execute: `type(a)`.\n",
    "\n",
    "Different types behave differently in Python. When you sum two strings, for example, you'll get different behavior than when you sum two integers or two booleans.\n",
    "\n",
    "Time for you to test this out.\n",
    "\n",
    "**Instructions 1/2** <br>\n",
    "Add `savings` and `new_savings` and assign it to `total_savings`.\n",
    "Use `type()` to print the resulting type of `total_savings`.\n",
    "\n",
    "**Instructions 2/2** <br>\n",
    "Calculate the sum of `intro` and `intro` and assign the result to `doubleintro`.\n",
    "Print out `doubleintro`. Did you expect this?"
   ]
  },
  {
   "cell_type": "code",
   "execution_count": 7,
   "id": "5fceb40d-c477-4cc4-ab74-cd2b7e1ed7dd",
   "metadata": {},
   "outputs": [
    {
     "name": "stdout",
     "output_type": "stream",
     "text": [
      "140\n",
      "<class 'int'>\n"
     ]
    }
   ],
   "source": [
    "savings = 100\n",
    "new_savings = 40\n",
    "\n",
    "# Calculate total_savings using savings and new_savings\n",
    "total_savings = savings + new_savings\n",
    "print(total_savings)\n",
    "\n",
    "# Print the type of total_savings\n",
    "print(type(total_savings))"
   ]
  },
  {
   "cell_type": "code",
   "execution_count": 8,
   "id": "e7411e52-d153-45b3-8f39-cc4bf81264d6",
   "metadata": {},
   "outputs": [
    {
     "name": "stdout",
     "output_type": "stream",
     "text": [
      "Hello! How are you?Hello! How are you?\n"
     ]
    }
   ],
   "source": [
    "intro = \"Hello! How are you?\"\n",
    "\n",
    "# Assign sum of intro and intro to doubleintro\n",
    "doubleintro = intro + intro\n",
    "\n",
    "# Print out doubleintro\n",
    "print(doubleintro)"
   ]
  }
 ],
 "metadata": {
  "kernelspec": {
   "display_name": "Python 3 (ipykernel)",
   "language": "python",
   "name": "python3"
  },
  "language_info": {
   "codemirror_mode": {
    "name": "ipython",
    "version": 3
   },
   "file_extension": ".py",
   "mimetype": "text/x-python",
   "name": "python",
   "nbconvert_exporter": "python",
   "pygments_lexer": "ipython3",
   "version": "3.12.4"
  }
 },
 "nbformat": 4,
 "nbformat_minor": 5
}
